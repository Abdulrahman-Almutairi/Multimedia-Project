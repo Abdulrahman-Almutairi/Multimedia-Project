{
 "cells": [
  {
   "cell_type": "markdown",
   "id": "84302ace",
   "metadata": {},
   "source": [
    "# Import Relevant Packages"
   ]
  },
  {
   "cell_type": "code",
   "execution_count": 2,
   "id": "c8e66554",
   "metadata": {},
   "outputs": [],
   "source": [
    "from heapq import heappush, heappop, heapify\n",
    "from collections import defaultdict\n",
    "from bitarray import bitarray"
   ]
  },
  {
   "cell_type": "markdown",
   "id": "1823ff36",
   "metadata": {},
   "source": [
    "# Input Uncompressed text"
   ]
  },
  {
   "cell_type": "code",
   "execution_count": 98,
   "id": "787627d2",
   "metadata": {},
   "outputs": [
    {
     "name": "stdout",
     "output_type": "stream",
     "text": [
      "If each character is stored as a bytes the size will be 88 bits\n"
     ]
    }
   ],
   "source": [
    "text = \"Happy Happy\"\n",
    "text_UnComp_size = len(text) * 8\n",
    "print(\"If each character is stored as a bytes the size will be\", text_UnComp_size, \"bits\")"
   ]
  },
  {
   "cell_type": "markdown",
   "id": "dc415b14",
   "metadata": {},
   "source": [
    "# Create Frequancy Dictionary"
   ]
  },
  {
   "cell_type": "code",
   "execution_count": 99,
   "id": "8c254513",
   "metadata": {},
   "outputs": [
    {
     "data": {
      "text/plain": [
       "defaultdict(int, {'H': 2, 'a': 2, 'p': 4, 'y': 2, ' ': 1})"
      ]
     },
     "execution_count": 99,
     "metadata": {},
     "output_type": "execute_result"
    }
   ],
   "source": [
    "freq_ch = defaultdict(int)\n",
    "for ch in text:\n",
    "    freq_ch[ch] += 1\n",
    "    \n",
    "freq_ch"
   ]
  },
  {
   "cell_type": "markdown",
   "id": "de0b48e7",
   "metadata": {},
   "source": [
    "# Create a Huffman Tree"
   ]
  },
  {
   "cell_type": "code",
   "execution_count": 100,
   "id": "7dbb3bfa",
   "metadata": {},
   "outputs": [
    {
     "name": "stdout",
     "output_type": "stream",
     "text": [
      "[[2, ['H', ' ']], [2, ['a', ' ']], [4, ['p', ' ']], [2, ['y', ' ']], [1, [' ', ' ']]]\n"
     ]
    }
   ],
   "source": [
    "heap = [[count, [ch, \" \"]] for ch, count in freq_ch.items()]\n",
    "print(heap)"
   ]
  },
  {
   "cell_type": "code",
   "execution_count": 101,
   "id": "01a63927",
   "metadata": {},
   "outputs": [
    {
     "data": {
      "text/plain": [
       "[[1, [' ', ' ']],\n",
       " [2, ['H', ' ']],\n",
       " [4, ['p', ' ']],\n",
       " [2, ['y', ' ']],\n",
       " [2, ['a', ' ']]]"
      ]
     },
     "execution_count": 101,
     "metadata": {},
     "output_type": "execute_result"
    }
   ],
   "source": [
    "heapify(heap)\n",
    "heap"
   ]
  },
  {
   "cell_type": "code",
   "execution_count": 102,
   "id": "d65dbb55",
   "metadata": {},
   "outputs": [
    {
     "name": "stdout",
     "output_type": "stream",
     "text": [
      "[1, [' ', '0 ']]\n",
      "[2, ['H', '1 ']]\n",
      "[2, ['a', '0 ']]\n",
      "[2, ['y', '1 ']]\n",
      "[3, [' ', '00 '], ['H', '01 ']]\n",
      "[4, ['a', '10 '], ['y', '11 ']]\n",
      "[4, ['p', '0 ']]\n",
      "[7, [' ', '100 '], ['H', '101 '], ['a', '110 '], ['y', '111 ']]\n"
     ]
    }
   ],
   "source": [
    "while len(heap) > 1:\n",
    "    right = heappop(heap)\n",
    "    left = heappop(heap)\n",
    "    \n",
    "    for pair in right[1:]:\n",
    "        pair[1] = '0' + pair[1]\n",
    "    for pair in left[1:]:\n",
    "        pair[1] = '1' + pair[1]\n",
    "        \n",
    "\n",
    "    print(right)\n",
    "    print(left)\n",
    "    \n",
    "    heappush(heap, [right[0] + left[0]] + right[1:] + left[1:])"
   ]
  },
  {
   "cell_type": "code",
   "execution_count": 105,
   "id": "4a8a9369",
   "metadata": {},
   "outputs": [
    {
     "name": "stdout",
     "output_type": "stream",
     "text": [
      "[['p', '0 '], [' ', '100 '], ['H', '101 '], ['a', '110 '], ['y', '111 ']]\n",
      "{'p': bitarray('0'), ' ': bitarray('100'), 'H': bitarray('101'), 'a': bitarray('110'), 'y': bitarray('111')}\n"
     ]
    }
   ],
   "source": [
    "Huffman_list = right[1:] + left[1:]\n",
    "print(Huffman_list)\n",
    "Huffman_dict = {a[0]:bitarray(str(a[1])) for a in Huffman_list}\n",
    "print(Huffman_dict)"
   ]
  },
  {
   "cell_type": "markdown",
   "id": "170841ef",
   "metadata": {},
   "source": [
    "# Huffman Encoding"
   ]
  },
  {
   "cell_type": "code",
   "execution_count": 106,
   "id": "b89eeb1b",
   "metadata": {},
   "outputs": [
    {
     "data": {
      "text/plain": [
       "bitarray('1011100011110010111000111')"
      ]
     },
     "execution_count": 106,
     "metadata": {},
     "output_type": "execute_result"
    }
   ],
   "source": [
    "encoded_text = bitarray()\n",
    "encoded_text.encode(Huffman_dict, text)\n",
    "encoded_text"
   ]
  },
  {
   "cell_type": "markdown",
   "id": "a8f71394",
   "metadata": {},
   "source": [
    "# Comparison"
   ]
  },
  {
   "cell_type": "code",
   "execution_count": 107,
   "id": "39dacc45",
   "metadata": {},
   "outputs": [
    {
     "name": "stdout",
     "output_type": "stream",
     "text": [
      "text before compression:  88 bits\n",
      "text after compression:  25 bits\n"
     ]
    }
   ],
   "source": [
    "print(\"text before compression: \", len(text) * 8, \"bits\")\n",
    "print(\"text after compression: \", len(encoded_text), \"bits\")"
   ]
  }
 ],
 "metadata": {
  "kernelspec": {
   "display_name": "Python 3 (ipykernel)",
   "language": "python",
   "name": "python3"
  },
  "language_info": {
   "codemirror_mode": {
    "name": "ipython",
    "version": 3
   },
   "file_extension": ".py",
   "mimetype": "text/x-python",
   "name": "python",
   "nbconvert_exporter": "python",
   "pygments_lexer": "ipython3",
   "version": "3.10.1"
  }
 },
 "nbformat": 4,
 "nbformat_minor": 5
}
